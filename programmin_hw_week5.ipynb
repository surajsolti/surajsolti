{
  "nbformat": 4,
  "nbformat_minor": 0,
  "metadata": {
    "colab": {
      "provenance": [],
      "authorship_tag": "ABX9TyMmgoEW6h84ugmleTAXwe+M",
      "include_colab_link": true
    },
    "kernelspec": {
      "name": "python3",
      "display_name": "Python 3"
    },
    "language_info": {
      "name": "python"
    }
  },
  "cells": [
    {
      "cell_type": "markdown",
      "metadata": {
        "id": "view-in-github",
        "colab_type": "text"
      },
      "source": [
        "<a href=\"https://colab.research.google.com/github/surajsolti/surajsolti/blob/main/programmin_hw_week5.ipynb\" target=\"_parent\"><img src=\"https://colab.research.google.com/assets/colab-badge.svg\" alt=\"Open In Colab\"/></a>"
      ]
    },
    {
      "cell_type": "code",
      "execution_count": 9,
      "metadata": {
        "colab": {
          "base_uri": "https://localhost:8080/"
        },
        "id": "cosuB3RXpA47",
        "outputId": "04fc002d-2930-4476-a089-f2beeea5ff61"
      },
      "outputs": [
        {
          "output_type": "stream",
          "name": "stdout",
          "text": [
            "Machine is out of stock\n",
            "Machine is out of stock. Here is your $15\n",
            "Current crab stock:2\n",
            "You must deposit $10 more\n",
            "Current balance: 7\n",
            "Here is your $7\n",
            "Current balance: 12\n",
            "Here is your $12\n"
          ]
        }
      ],
      "source": [
        "class VendingMachine:\n",
        "    def __init__(self,item, price):\n",
        "        self.item = item\n",
        "        self.price = price\n",
        "        self.stock = 0\n",
        "        self.balance = 0\n",
        "\n",
        "    def deposit(self, amt):\n",
        "        if self.stock == 0:\n",
        "            print(\"Machine is out of stock. Here is your $\" + str(amt))\n",
        "        else:\n",
        "            self.balance = self.balance + amt\n",
        "            print(\"Current balance:\",self.balance)\n",
        "\n",
        "    def restock(self,amt):\n",
        "        self.stock = self.stock + amt\n",
        "        print(\"Current \" + self.item + \" stock:\" + str(self.stock))\n",
        "\n",
        "    def vend(self):\n",
        "        if self.stock == 0:\n",
        "            print(\"Machine is out of stock\")\n",
        "        elif self.balance > 0:\n",
        "            print(\"Here is your $\" + str(self.balance))\n",
        "        else:\n",
        "            if self.balance >= self.price:\n",
        "                a = self.balance - self.price\n",
        "                self.balance = self.balance - self.price\n",
        "                if a > 0:\n",
        "                    print(\"Here is your \" + self.item + \" and $\" + str(a) + \" change\")\n",
        "                else:\n",
        "                    print(\"Here is your \" + self.item)\n",
        "            else:\n",
        "                a = self.price - self.balance\n",
        "                print(\"You must deposit $\" + str(a) + \" more\")\n",
        "\n",
        "# Create a new VendingMachine object with item \"crab\" and price 10\n",
        "v = VendingMachine(\"crab\",10)\n",
        "\n",
        "# Call the vend method\n",
        "v.vend()  # Output: \"Machine is out of stock\"\n",
        "\n",
        "# Call the deposit method with a value of 15\n",
        "v.deposit(15)  # Output: \"Current balance: 15\"\n",
        "\n",
        "# Call the restock method with a value of 2\n",
        "v.restock(2)  # Output: \"Current crab stock: 2\"\n",
        "\n",
        "# Call the vend method again\n",
        "v.vend()  # Output: \"You must deposit $3 more\"\n",
        "\n",
        "# Call the deposit method with a value of 7\n",
        "v.deposit(7)  # Output: \"Current balance: 7\"\n",
        "\n",
        "# Call the vend method again\n",
        "v.vend()  # Output: \"Here is your crab\"\n",
        "\n",
        "# Call the deposit method with a value of 5\n",
        "v.deposit(5)  # Output: \"Current balance: 5\"\n",
        "\n",
        "# Call the vend method again\n",
        "v.vend()  # Output: \"You must deposit $5 more\"\n",
        "\n",
        "\n"
      ]
    }
  ]
}