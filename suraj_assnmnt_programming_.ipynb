{
  "nbformat": 4,
  "nbformat_minor": 0,
  "metadata": {
    "colab": {
      "provenance": [],
      "authorship_tag": "ABX9TyOs+eMsfmgq+3QQ6t6UiK69",
      "include_colab_link": true
    },
    "kernelspec": {
      "name": "python3",
      "display_name": "Python 3"
    },
    "language_info": {
      "name": "python"
    }
  },
  "cells": [
    {
      "cell_type": "markdown",
      "metadata": {
        "id": "view-in-github",
        "colab_type": "text"
      },
      "source": [
        "<a href=\"https://colab.research.google.com/github/surajsolti/surajsolti/blob/main/suraj_assnmnt_programming_.ipynb\" target=\"_parent\"><img src=\"https://colab.research.google.com/assets/colab-badge.svg\" alt=\"Open In Colab\"/></a>"
      ]
    },
    {
      "cell_type": "code",
      "execution_count": null,
      "metadata": {
        "id": "QAWkfXAtL893"
      },
      "outputs": [],
      "source": [
        "def fact(n):\n",
        "  res=1\n",
        "  for i in range(1, n+1):\n",
        "    res=res*i\n",
        "  return res\n",
        "print(fact(3))\n",
        "def approx_e(iter):\n",
        "  lst=[]\n",
        "  for i in range(0, iter):\n",
        "    if i==0:\n",
        "      lst.append(1)\n",
        "      continue\n",
        "    lst.append(1/fact(i))\n",
        "    print(lst)\n",
        "    result=sum(lst)\n",
        "  print(sum(lst))\n",
        "approx_e(100)"
      ]
    },
    {
      "cell_type": "code",
      "source": [
        "import math\n",
        "\n",
        "def squares(seq):\n",
        " res=[]\n",
        " for i in seq:\n",
        "  root=math.sqrt(i)\n",
        "  if int(root+0.5)**2==i:\n",
        "   res.append(i)\n",
        " return res\n",
        "squares([500,30])"
      ],
      "metadata": {
        "colab": {
          "base_uri": "https://localhost:8080/"
        },
        "id": "E5Y7zJdqMBbF",
        "outputId": "3139e232-53e5-4ae0-d278-60f4ca4b25fd"
      },
      "execution_count": 2,
      "outputs": [
        {
          "output_type": "execute_result",
          "data": {
            "text/plain": [
              "[]"
            ]
          },
          "metadata": {},
          "execution_count": 2
        }
      ]
    },
    {
      "cell_type": "code",
      "source": [
        "def add_this_many(x,el,lst):\n",
        " repeat=0\n",
        " for i in lst:\n",
        "  if x==i:\n",
        "   repeat +=1\n",
        "  print(repeat)\n",
        " for i in range(repeat):\n",
        "  lst.append(el)\n",
        " return lst\n",
        "add_this_many(1,5,[2,4,2,1,1,1])\n"
      ],
      "metadata": {
        "colab": {
          "base_uri": "https://localhost:8080/"
        },
        "id": "VOeXzzp4MMqm",
        "outputId": "7726d6f2-4bbc-4476-d624-80cf5f3f7d48"
      },
      "execution_count": 3,
      "outputs": [
        {
          "output_type": "stream",
          "name": "stdout",
          "text": [
            "0\n",
            "0\n",
            "0\n",
            "1\n",
            "2\n",
            "3\n"
          ]
        },
        {
          "output_type": "execute_result",
          "data": {
            "text/plain": [
              "[2, 4, 2, 1, 1, 1, 5, 5, 5]"
            ]
          },
          "metadata": {},
          "execution_count": 3
        }
      ]
    }
  ]
}