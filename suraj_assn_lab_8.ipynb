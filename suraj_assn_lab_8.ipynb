{
  "nbformat": 4,
  "nbformat_minor": 0,
  "metadata": {
    "colab": {
      "provenance": [],
      "authorship_tag": "ABX9TyNt/Udb20SocrR7SjoWP5xF",
      "include_colab_link": true
    },
    "kernelspec": {
      "name": "python3",
      "display_name": "Python 3"
    },
    "language_info": {
      "name": "python"
    }
  },
  "cells": [
    {
      "cell_type": "markdown",
      "metadata": {
        "id": "view-in-github",
        "colab_type": "text"
      },
      "source": [
        "<a href=\"https://colab.research.google.com/github/surajsolti/surajsolti/blob/main/suraj_assn_lab_8.ipynb\" target=\"_parent\"><img src=\"https://colab.research.google.com/assets/colab-badge.svg\" alt=\"Open In Colab\"/></a>"
      ]
    },
    {
      "cell_type": "code",
      "execution_count": 4,
      "metadata": {
        "colab": {
          "base_uri": "https://localhost:8080/"
        },
        "id": "B9x7bk-UVOBC",
        "outputId": "03864517-f1dd-499b-9ed7-43ea0890abd8"
      },
      "outputs": [
        {
          "output_type": "stream",
          "name": "stdout",
          "text": [
            "Enter a radius: 5\n",
            "The volume of the sphere is: 523.5987755982989\n",
            "The surface Area of the sphere is: 314.1592653589793\n"
          ]
        }
      ],
      "source": [
        "# Q1: Answer\n",
        "import math\n",
        "class Ball:\n",
        "  def __init__(self, radius):\n",
        "    self.radius = radius\n",
        "  \n",
        "  \n",
        "  def surfaceArea(self):\n",
        "    return 4 * math.pi*(self.radius**2)\n",
        "  \n",
        "  def volume(self):\n",
        "    return (4/3) * math.pi * (self.radius**3)\n",
        "\n",
        "def main():\n",
        "  rad = eval(input(\"Enter a radius: \"))\n",
        "\n",
        "  ball = Ball(rad)\n",
        "  area = ball.surfaceArea()\n",
        "  vol = ball.volume()\n",
        "  print(f\"The volume of the sphere is: {ball.volume()}\")\n",
        "  print(f\"The surface Area of the sphere is: {ball.surfaceArea()}\")\n",
        " \n",
        "\n",
        "main()\n"
      ]
    },
    {
      "cell_type": "markdown",
      "source": [],
      "metadata": {
        "id": "vGQS9ONXhW5t"
      }
    },
    {
      "cell_type": "code",
      "source": [
        "\n",
        "# Q2: Answer\n",
        "class Card:\n",
        "    \"A Card object is a numeric representation of a card.\"\n",
        "\n",
        "    def __init__(self, rank, suit):\n",
        "        \"Indicates rank from 1-13, as well as the card's suit.\"\n",
        "        self.rank = rank\n",
        "        self.suit = suit\n",
        "        self.ranks = [None, \"ace\", \"2\", \"3\", \"4\", \"5\", \"6\", \"7\", \"8\", \"9\", \"10\", \"jack\", \"queen\", \"king\"]\n",
        "        self.suits = {\"s\": \"spades\",\n",
        "                      \"d\": \"diamonds\",\n",
        "                      \"c\": \"clubs\",\n",
        "                      \"h\": \"hearts\"}\n",
        "\n",
        "    def getRank(self):\n",
        "        \"Returns the rank of the card.\"\n",
        "        return self.rank\n",
        "\n",
        "    def getSuit(self):\n",
        "        return self.suits.get(self.suit)\n",
        "\n",
        "\n",
        "    def BJValue(self):\n",
        "        if self.rank > 1 or self.rank < 11:\n",
        "            self.value = self.rank\n",
        "\n",
        "        elif self.rank == \"Ace\":\n",
        "            self.value = 1\n",
        "\n",
        "        elif self.rank == \"Jack\" or self.ranks == \"Queen\" or self.ranks == \"King\":\n",
        "            self.value = 10\n",
        "\n",
        "\n",
        "        return self.value\n",
        "\n",
        "    def __str__(self):\n",
        "\n",
        "        return \"%s of %s\" % (self.ranks[self.rank], self.suits.get(self.suit))\n",
        "\n",
        "\n",
        "\n",
        "\n",
        "c1 = Card(1, \"s\")\n",
        "print(c1)"
      ],
      "metadata": {
        "colab": {
          "base_uri": "https://localhost:8080/"
        },
        "id": "DMMT_Ti4gIsV",
        "outputId": "7a0f8ada-4459-4cdd-ac0d-e26db9c46dcf"
      },
      "execution_count": 5,
      "outputs": [
        {
          "output_type": "stream",
          "name": "stdout",
          "text": [
            "ace of spades\n"
          ]
        }
      ]
    }
  ]
}