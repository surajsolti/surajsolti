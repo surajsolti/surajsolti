{
  "nbformat": 4,
  "nbformat_minor": 0,
  "metadata": {
    "colab": {
      "provenance": [],
      "collapsed_sections": [],
      "authorship_tag": "ABX9TyMQJt4LMfRUnhWuSRL1YiLN",
      "include_colab_link": true
    },
    "kernelspec": {
      "name": "python3",
      "display_name": "Python 3"
    },
    "language_info": {
      "name": "python"
    }
  },
  "cells": [
    {
      "cell_type": "markdown",
      "metadata": {
        "id": "view-in-github",
        "colab_type": "text"
      },
      "source": [
        "<a href=\"https://colab.research.google.com/github/surajsolti/surajsolti/blob/main/suraj_hw2_.ipynb\" target=\"_parent\"><img src=\"https://colab.research.google.com/assets/colab-badge.svg\" alt=\"Open In Colab\"/></a>"
      ]
    },
    {
      "cell_type": "code",
      "execution_count": 5,
      "metadata": {
        "colab": {
          "base_uri": "https://localhost:8080/"
        },
        "id": "MRFUKo0ABzAS",
        "outputId": "0ea7a5fe-f242-469d-fd5f-53170375260b"
      },
      "outputs": [
        {
          "output_type": "stream",
          "name": "stdout",
          "text": [
            "Enter text:s\n",
            "Enter the key: 2\n",
            "u"
          ]
        }
      ],
      "source": [
        "text=input(\"Enter text:\")\n",
        "key=int(input(\"Enter the key: \"))\n",
        "for c in text:\n",
        " c=ord(c)\n",
        " r=c+key\n",
        " newres=chr(r) \n",
        "print(newres,end=\"\")"
      ]
    },
    {
      "cell_type": "code",
      "source": [
        "lst = [4, 2, 5, 6]\n",
        "\n",
        "i = [str(integer) for integer in lst]\n",
        "a_string = \"\".join(i)\n",
        "\n",
        "res = int(a_string)\n",
        "a=1\n",
        "sum=res+1\n",
        "print(sum)\n",
        "num = sum\n",
        "\n",
        "print(\"The number after addition is \" + str(num))\n",
        "res1 = [int(x) for x in str(num)]\n",
        "print(\"The list from number is \" + str(res1))"
      ],
      "metadata": {
        "colab": {
          "base_uri": "https://localhost:8080/"
        },
        "id": "OJFu_nR8B2Gf",
        "outputId": "6cfa069a-841b-4272-f602-a81aaea0c74b"
      },
      "execution_count": 3,
      "outputs": [
        {
          "output_type": "stream",
          "name": "stdout",
          "text": [
            "4257\n",
            "The number after addition is 4257\n",
            "The list from number is [4, 2, 5, 7]\n"
          ]
        }
      ]
    },
    {
      "cell_type": "code",
      "source": [
        "if __name__ == \"__main__\" :\n",
        " \n",
        "   \n",
        "    a = \"1011\"\n",
        "    b = \"10\"\n",
        "     \n",
        "   \n",
        "    bn_sum = lambda a,b : bin(int(a, 2) + int(b, 2))\n",
        "     \n",
        "    print(bn_sum(a,b)[2:])"
      ],
      "metadata": {
        "colab": {
          "base_uri": "https://localhost:8080/"
        },
        "id": "4Zop11ZjB7VO",
        "outputId": "6539b8aa-8844-4f5c-da0a-ae89df0676fb"
      },
      "execution_count": 4,
      "outputs": [
        {
          "output_type": "stream",
          "name": "stdout",
          "text": [
            "1101\n"
          ]
        }
      ]
    },
    {
      "cell_type": "code",
      "source": [
        "import math\n",
        "n=eval(input(\"The input is: \"))\n",
        "def sumDiv(driver):\n",
        " sum = 0;\n",
        " for i in range(1,driver):\n",
        "  if(driver%i==0):\n",
        "   sum=sum+i\n",
        " return sum;\n",
        "def final_amicable(iteration):\n",
        " final = 0\n",
        " for i in range(1,iteration):\n",
        "  currentDivs = sumDiv(int(i));\n",
        "  resultDivs = sumDiv(currentDivs);\n",
        "  if (i == resultDivs and currentDivs != resultDivs):\n",
        "   if(i > n):\n",
        "    print(i)\n",
        "    final = i\n",
        "    return i\n",
        "    break\n",
        " if(final == 0):\n",
        "   final_amicable(iteration*2)\n",
        "def amc(n):\n",
        "  final_result = final_amicable(1500);\n",
        "amc(n)"
      ],
      "metadata": {
        "colab": {
          "base_uri": "https://localhost:8080/"
        },
        "id": "AlwVXnS5B7sB",
        "outputId": "01bc22fb-c90f-49aa-985f-918cb34f8643"
      },
      "execution_count": 1,
      "outputs": [
        {
          "output_type": "stream",
          "name": "stdout",
          "text": [
            "The input is: 5000\n",
            "5020\n"
          ]
        }
      ]
    }
  ]
}